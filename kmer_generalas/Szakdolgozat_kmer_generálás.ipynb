{
  "nbformat": 4,
  "nbformat_minor": 0,
  "metadata": {
    "colab": {
      "name": "Szakdolgozat_kmer_generálás.ipynb",
      "provenance": [],
      "collapsed_sections": []
    },
    "kernelspec": {
      "name": "python3",
      "display_name": "Python 3"
    },
    "language_info": {
      "name": "python"
    }
  },
  "cells": [
    {
      "cell_type": "markdown",
      "metadata": {
        "id": "Xav3aoGvoSME"
      },
      "source": [
        "# Szakdolgozat - Adathalmaz készítés: k-merek készítése FNA fájlokból"
      ]
    },
    {
      "cell_type": "code",
      "metadata": {
        "id": "VUb1S8t2oNX3"
      },
      "source": [
        "import os\n",
        "from google.colab import drive"
      ],
      "execution_count": null,
      "outputs": []
    },
    {
      "cell_type": "code",
      "metadata": {
        "colab": {
          "base_uri": "https://localhost:8080/"
        },
        "id": "EAhG5lFWqCUT",
        "outputId": "f1cf1cc2-7e29-45ae-e8c4-d2d73d286481"
      },
      "source": [
        "drive.mount('/content/drive/')"
      ],
      "execution_count": null,
      "outputs": [
        {
          "output_type": "stream",
          "text": [
            "Mounted at /content/drive/\n"
          ],
          "name": "stdout"
        }
      ]
    },
    {
      "cell_type": "code",
      "metadata": {
        "id": "opoC316js_FB"
      },
      "source": [
        "os.chdir('/content/drive/MyDrive/Iskolai/Egyetem/Szakdolgozat')"
      ],
      "execution_count": null,
      "outputs": []
    },
    {
      "cell_type": "code",
      "metadata": {
        "id": "d4unzQmEgUeB"
      },
      "source": [
        "# az adott szekvecniából kmereket visszaadó függvény, k a kmer hossza, a shift a lépéshossz a kmerek között\n",
        "# a generátorként való megvalósítás ötlete a \"https://www.biostars.org/p/415732/\" oldalról eredeztethető\n",
        "def create_kmers(seq, k, shift):\n",
        "  for x in range(0, len(seq)-k, shift):\n",
        "    yield seq[x:x+k]"
      ],
      "execution_count": null,
      "outputs": []
    },
    {
      "cell_type": "code",
      "metadata": {
        "id": "OG0HaGcqt21l"
      },
      "source": [
        "# függvény, amely az adott paraméterek alapján kmereket tartalmazó fájlt csinál a bemeneti FNA fájlból\n",
        "\n",
        "# a fullfile paraméterre a tesztelés folyamán volt szükség, ez limitálta a kimeneti fájlban keletkező k-merek számát, így viszonylag egyszerűen vissza lehetett követni,\n",
        "# hogy a k-mergenerálás megfelelően működik-e\n",
        "def make_kmers(ifname, ofname, length = 15, shift = 5, fullfile=True):\n",
        "  kmers = [] # a fájlból származó összes kmer\n",
        "  with open(ifname, \"r\") as ins:\n",
        "    lines = ins.read().splitlines() # sorok olvasása, sorvégi \\n eltávolítása\n",
        "\n",
        "    genome_lines = [] # adott genomot tartalmazó lista\n",
        "    i = 0\n",
        "\n",
        "    for line in lines:\n",
        "      if line.startswith(\">\"):\n",
        "        if (len(genome_lines) == 0):\n",
        "          continue\n",
        "        else:\n",
        "          gen_seq = ''.join(genome_lines) # adott genomot tartalmazó listából készített folytonos string\n",
        "          gen_kmers = create_kmers(gen_seq, length, shift) # adott genomból létrehozott kmerek\n",
        "          for x in gen_kmers:\n",
        "            kmers.append(x)\n",
        "          genome_lines = []\n",
        "          i = i+1\n",
        "          if not fullfile and i==1:\n",
        "            break\n",
        "      else:\n",
        "        genome_lines.append(line)\n",
        "\n",
        "      if not (len(genome_lines) == 0):\n",
        "        gen_seq = ''.join(genome_lines) # adott genomot tartalmazó listából készített folytonos string\n",
        "        gen_kmers = create_kmers(gen_seq, length, shift)\n",
        "        for x in gen_kmers:\n",
        "          kmers.append(x)\n",
        "        genome_lines = []\n",
        "\n",
        "  with open(ofname, \"w\") as out:\n",
        "    kmers_for_file = [x + '\\n' for x in kmers]\n",
        "    out.writelines(kmers_for_file)"
      ],
      "execution_count": null,
      "outputs": []
    },
    {
      "cell_type": "code",
      "metadata": {
        "id": "aL58eO1r27XO"
      },
      "source": [
        "# példa futtatás, hogy a generálás megfelelően működik-e\n",
        "make_kmers('viral_fasta_for_test.txt', 'viral_kmers_test.txt', fullfile=False)"
      ],
      "execution_count": null,
      "outputs": []
    },
    {
      "cell_type": "code",
      "metadata": {
        "id": "W50JpIGR3H6s"
      },
      "source": [
        ""
      ],
      "execution_count": null,
      "outputs": []
    }
  ]
}